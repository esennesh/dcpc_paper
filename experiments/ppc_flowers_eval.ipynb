{
 "cells": [
  {
   "cell_type": "code",
   "execution_count": 1,
   "id": "596d192c-de00-40b4-a8b3-25e6b01e1e4b",
   "metadata": {},
   "outputs": [
    {
     "name": "stdout",
     "output_type": "stream",
     "text": [
      "/workspace/shai_hulud/ppc_experiments\n"
     ]
    }
   ],
   "source": [
    "%cd .."
   ]
  },
  {
   "cell_type": "code",
   "execution_count": 2,
   "id": "43ef1c2d-5a3a-42dc-b547-312e997c87ff",
   "metadata": {},
   "outputs": [
    {
     "name": "stderr",
     "output_type": "stream",
     "text": [
      "Seed set to 123\n"
     ]
    }
   ],
   "source": [
    "import argparse\n",
    "import collections\n",
    "import lightning\n",
    "import numpy as np\n",
    "import pyro\n",
    "import torch\n",
    "import logger, train"
   ]
  },
  {
   "cell_type": "code",
   "execution_count": 3,
   "id": "32ff760e-320f-4a87-ac44-f44ca3338e2d",
   "metadata": {},
   "outputs": [],
   "source": [
    "# pyro.enable_validation(True)\n",
    "# torch.autograd.set_detect_anomaly(True)"
   ]
  },
  {
   "cell_type": "code",
   "execution_count": 4,
   "id": "496e2ad7-e3e4-4f32-9cf6-54e7ed5caf11",
   "metadata": {},
   "outputs": [
    {
     "name": "stderr",
     "output_type": "stream",
     "text": [
      "GPU available: True (cuda), used: True\n",
      "TPU available: False, using: 0 TPU cores\n",
      "IPU available: False, using: 0 IPUs\n",
      "HPU available: False, using: 0 HPUs\n"
     ]
    }
   ],
   "source": [
    "config, (data, model, trainer) = train.from_file(\"experiments/ppc_flowers_config.json\")"
   ]
  },
  {
   "cell_type": "code",
   "execution_count": 5,
   "id": "579c162c-3fd4-4478-ba5b-dd0e51341090",
   "metadata": {},
   "outputs": [
    {
     "name": "stderr",
     "output_type": "stream",
     "text": [
      "[rank: 0] Seed set to 123\n",
      "Initializing distributed: GLOBAL_RANK: 0, MEMBER: 1/2\n",
      "[rank: 1] Seed set to 123\n",
      "Initializing distributed: GLOBAL_RANK: 1, MEMBER: 2/2\n",
      "Missing logger folder: saved/log/FlowersDiffusion_Ppc/0512_191330/lightning_logs\n",
      "----------------------------------------------------------------------------------------------------\n",
      "distributed_backend=nccl\n",
      "All distributed processes registered. Starting with 2 processes\n",
      "----------------------------------------------------------------------------------------------------\n",
      "\n",
      "Missing logger folder: saved/log/FlowersDiffusion_Ppc/0512_191330/lightning_logs\n",
      "/usr/local/lib/python3.10/dist-packages/lightning/pytorch/callbacks/model_checkpoint.py:653: Checkpoint directory /workspace/shai_hulud/ppc_experiments/saved/models/FlowersDiffusion_Ppc/0512_191330 exists and is not empty.\n",
      "Restoring states from the checkpoint path at saved/models/FlowersDiffusion_Ppc/0509_231539/checkpoint_999.ckpt\n",
      "[DSI-DGX01:3515055:0:3515055] Caught signal 11 (Segmentation fault: address not mapped to object at address 0x7fefb686d548)\n",
      "[DSI-DGX01:3515248:0:3515248] Caught signal 11 (Segmentation fault: address not mapped to object at address 0x7fefc2871548)\n",
      "==== backtrace (tid:3515055) ====\n",
      " 0 0x0000000000042520 __sigaction()  ???:0\n",
      " 1 0x0000000000016b51 omp_in_final()  ???:0\n",
      " 2 0x000000000000e05a GOMP_parallel()  ???:0\n",
      " 3 0x0000000001911e40 at::TensorIteratorBase::for_each()  ???:0\n",
      " 4 0x00000000065cc9e2 at::native::AVX2::direct_copy_kernel()  :0\n",
      " 5 0x00000000065e9ee2 at::native::AVX2::copy_same_dtype()  CopyKernel.cpp.AVX2.cpp:0\n",
      " 6 0x00000000065ea23e at::native::AVX2::copy_kernel()  :0\n",
      " 7 0x0000000001cab4bb at::native::copy_impl()  Copy.cpp:0\n",
      " 8 0x0000000001cace22 at::native::copy_()  ???:0\n",
      " 9 0x00000000029d148b at::_ops::copy_::redispatch()  ???:0\n",
      "10 0x0000000005a88005 torch::ADInplaceOrView::copy_()  VariableTypeManual.cpp:0\n",
      "11 0x00000000029d148b at::_ops::copy_::redispatch()  ???:0\n",
      "12 0x0000000005a8907d torch::autograd::VariableType::(anonymous namespace)::copy_()  VariableTypeManual.cpp:0\n",
      "13 0x0000000002a3768c at::_ops::copy_::call()  ???:0\n",
      "14 0x000000000058f9b9 torch::autograd::THPVariable_copy_()  python_variable_methods.cpp:0\n",
      "15 0x000000000015b8b7 _PyObject_GetDictPtr()  ???:0\n",
      "16 0x000000000014345c _PyEval_EvalFrameDefault()  ???:0\n",
      "17 0x00000000001687f1 PyMethod_New()  ???:0\n",
      "18 0x0000000000148cfa _PyEval_EvalFrameDefault()  ???:0\n",
      "19 0x000000000015a9fc _PyFunction_Vectorcall()  ???:0\n",
      "20 0x000000000014326d _PyEval_EvalFrameDefault()  ???:0\n",
      "21 0x000000000015a9fc _PyFunction_Vectorcall()  ???:0\n",
      "22 0x000000000014326d _PyEval_EvalFrameDefault()  ???:0\n",
      "23 0x000000000015a9fc _PyFunction_Vectorcall()  ???:0\n",
      "24 0x000000000014326d _PyEval_EvalFrameDefault()  ???:0\n",
      "25 0x000000000015a9fc _PyFunction_Vectorcall()  ???:0\n",
      "26 0x000000000014326d _PyEval_EvalFrameDefault()  ???:0\n",
      "27 0x000000000015a9fc _PyFunction_Vectorcall()  ???:0\n",
      "28 0x000000000014326d _PyEval_EvalFrameDefault()  ???:0\n",
      "29 0x000000000015a9fc _PyFunction_Vectorcall()  ???:0\n",
      "30 0x000000000014326d _PyEval_EvalFrameDefault()  ???:0\n",
      "31 0x000000000015a9fc _PyFunction_Vectorcall()  ???:0\n",
      "32 0x000000000014326d _PyEval_EvalFrameDefault()  ???:0\n",
      "33 0x00000000001687f1 PyMethod_New()  ???:0\n",
      "34 0x000000000014453c _PyEval_EvalFrameDefault()  ???:0\n",
      "35 0x00000000001687f1 PyMethod_New()  ???:0\n",
      "36 0x000000000014453c _PyEval_EvalFrameDefault()  ???:0\n",
      "37 0x000000000015a9fc _PyFunction_Vectorcall()  ???:0\n",
      "38 0x000000000014345c _PyEval_EvalFrameDefault()  ???:0\n",
      "39 0x000000000015a9fc _PyFunction_Vectorcall()  ???:0\n",
      "40 0x000000000014345c _PyEval_EvalFrameDefault()  ???:0\n",
      "41 0x00000000001687f1 PyMethod_New()  ???:0\n",
      "42 0x000000000014453c _PyEval_EvalFrameDefault()  ???:0\n",
      "43 0x000000000016893e PyMethod_New()  ???:0\n",
      "44 0x00000000001455d7 _PyEval_EvalFrameDefault()  ???:0\n",
      "45 0x000000000016893e PyMethod_New()  ???:0\n",
      "46 0x00000000001455d7 _PyEval_EvalFrameDefault()  ???:0\n",
      "47 0x000000000015a9fc _PyFunction_Vectorcall()  ???:0\n",
      "48 0x00000000001455d7 _PyEval_EvalFrameDefault()  ???:0\n",
      "49 0x000000000015a9fc _PyFunction_Vectorcall()  ???:0\n",
      "50 0x000000000014345c _PyEval_EvalFrameDefault()  ???:0\n",
      "51 0x00000000001687f1 PyMethod_New()  ???:0\n",
      "52 0x000000000014453c _PyEval_EvalFrameDefault()  ???:0\n",
      "53 0x000000000015a9fc _PyFunction_Vectorcall()  ???:0\n",
      "54 0x000000000014345c _PyEval_EvalFrameDefault()  ???:0\n",
      "55 0x000000000014fc14 _PyObject_FastCallDictTstate()  ???:0\n",
      "56 0x0000000000164a64 _PyStack_AsDict()  ???:0\n",
      "=================================\n",
      "==== backtrace (tid:3515248) ====\n",
      " 0 0x0000000000042520 __sigaction()  ???:0\n",
      " 1 0x0000000000016b51 omp_in_final()  ???:0\n",
      " 2 0x000000000000e05a GOMP_parallel()  ???:0\n",
      " 3 0x0000000001911e40 at::TensorIteratorBase::for_each()  ???:0\n",
      " 4 0x00000000065cc9e2 at::native::AVX2::direct_copy_kernel()  :0\n",
      " 5 0x00000000065e9ee2 at::native::AVX2::copy_same_dtype()  CopyKernel.cpp.AVX2.cpp:0\n",
      " 6 0x00000000065ea23e at::native::AVX2::copy_kernel()  :0\n",
      " 7 0x0000000001cab4bb at::native::copy_impl()  Copy.cpp:0\n",
      " 8 0x0000000001cace22 at::native::copy_()  ???:0\n",
      " 9 0x00000000029d148b at::_ops::copy_::redispatch()  ???:0\n",
      "10 0x0000000005a88005 torch::ADInplaceOrView::copy_()  VariableTypeManual.cpp:0\n",
      "11 0x00000000029d148b at::_ops::copy_::redispatch()  ???:0\n",
      "12 0x0000000005a8907d torch::autograd::VariableType::(anonymous namespace)::copy_()  VariableTypeManual.cpp:0\n",
      "13 0x0000000002a3768c at::_ops::copy_::call()  ???:0\n",
      "14 0x000000000058f9b9 torch::autograd::THPVariable_copy_()  python_variable_methods.cpp:0\n",
      "15 0x000000000015b8b7 _PyObject_GetDictPtr()  ???:0\n",
      "16 0x000000000014345c _PyEval_EvalFrameDefault()  ???:0\n",
      "17 0x00000000001687f1 PyMethod_New()  ???:0\n",
      "18 0x0000000000148cfa _PyEval_EvalFrameDefault()  ???:0\n",
      "19 0x000000000015a9fc _PyFunction_Vectorcall()  ???:0\n",
      "20 0x000000000014326d _PyEval_EvalFrameDefault()  ???:0\n",
      "21 0x000000000015a9fc _PyFunction_Vectorcall()  ???:0\n",
      "22 0x000000000014326d _PyEval_EvalFrameDefault()  ???:0\n",
      "23 0x000000000015a9fc _PyFunction_Vectorcall()  ???:0\n",
      "24 0x000000000014326d _PyEval_EvalFrameDefault()  ???:0\n",
      "25 0x000000000015a9fc _PyFunction_Vectorcall()  ???:0\n",
      "26 0x000000000014326d _PyEval_EvalFrameDefault()  ???:0\n",
      "27 0x000000000015a9fc _PyFunction_Vectorcall()  ???:0\n",
      "28 0x000000000014326d _PyEval_EvalFrameDefault()  ???:0\n",
      "29 0x000000000015a9fc _PyFunction_Vectorcall()  ???:0\n",
      "30 0x000000000014326d _PyEval_EvalFrameDefault()  ???:0\n",
      "31 0x000000000015a9fc _PyFunction_Vectorcall()  ???:0\n",
      "32 0x000000000014326d _PyEval_EvalFrameDefault()  ???:0\n",
      "33 0x00000000001687f1 PyMethod_New()  ???:0\n",
      "34 0x000000000014453c _PyEval_EvalFrameDefault()  ???:0\n",
      "35 0x00000000001687f1 PyMethod_New()  ???:0\n",
      "36 0x000000000014453c _PyEval_EvalFrameDefault()  ???:0\n",
      "37 0x000000000015a9fc _PyFunction_Vectorcall()  ???:0\n",
      "38 0x000000000014345c _PyEval_EvalFrameDefault()  ???:0\n",
      "39 0x000000000015a9fc _PyFunction_Vectorcall()  ???:0\n",
      "40 0x000000000014345c _PyEval_EvalFrameDefault()  ???:0\n",
      "41 0x00000000001687f1 PyMethod_New()  ???:0\n",
      "42 0x000000000014453c _PyEval_EvalFrameDefault()  ???:0\n",
      "43 0x000000000016893e PyMethod_New()  ???:0\n",
      "44 0x00000000001455d7 _PyEval_EvalFrameDefault()  ???:0\n",
      "45 0x000000000016893e PyMethod_New()  ???:0\n",
      "46 0x00000000001455d7 _PyEval_EvalFrameDefault()  ???:0\n",
      "47 0x000000000015a9fc _PyFunction_Vectorcall()  ???:0\n",
      "48 0x00000000001455d7 _PyEval_EvalFrameDefault()  ???:0\n",
      "49 0x000000000015a9fc _PyFunction_Vectorcall()  ???:0\n",
      "50 0x000000000014345c _PyEval_EvalFrameDefault()  ???:0\n",
      "51 0x00000000001687f1 PyMethod_New()  ???:0\n",
      "52 0x000000000014453c _PyEval_EvalFrameDefault()  ???:0\n",
      "53 0x000000000015a9fc _PyFunction_Vectorcall()  ???:0\n",
      "54 0x000000000014345c _PyEval_EvalFrameDefault()  ???:0\n",
      "55 0x000000000014fc14 _PyObject_FastCallDictTstate()  ???:0\n",
      "56 0x0000000000164a64 _PyStack_AsDict()  ???:0\n",
      "=================================\n",
      "W0512 19:22:21.945000 140675050369472 torch/multiprocessing/spawn.py:145] Terminating process 3515248 via signal SIGTERM\n"
     ]
    },
    {
     "ename": "ProcessExitedException",
     "evalue": "process 0 terminated with signal SIGSEGV",
     "output_type": "error",
     "traceback": [
      "\u001b[0;31m---------------------------------------------------------------------------\u001b[0m",
      "\u001b[0;31mProcessExitedException\u001b[0m                    Traceback (most recent call last)",
      "Cell \u001b[0;32mIn[5], line 1\u001b[0m\n\u001b[0;32m----> 1\u001b[0m \u001b[43mtrainer\u001b[49m\u001b[38;5;241;43m.\u001b[39;49m\u001b[43mfit\u001b[49m\u001b[43m(\u001b[49m\u001b[43mmodel\u001b[49m\u001b[43m,\u001b[49m\u001b[43m \u001b[49m\u001b[43mdata\u001b[49m\u001b[43m,\u001b[49m\u001b[43m \u001b[49m\u001b[43mckpt_path\u001b[49m\u001b[38;5;241;43m=\u001b[39;49m\u001b[38;5;124;43m\"\u001b[39;49m\u001b[38;5;124;43msaved/models/FlowersDiffusion_Ppc/0509_231539/checkpoint_999.ckpt\u001b[39;49m\u001b[38;5;124;43m\"\u001b[39;49m\u001b[43m)\u001b[49m\n",
      "File \u001b[0;32m/usr/local/lib/python3.10/dist-packages/lightning/pytorch/trainer/trainer.py:544\u001b[0m, in \u001b[0;36mTrainer.fit\u001b[0;34m(self, model, train_dataloaders, val_dataloaders, datamodule, ckpt_path)\u001b[0m\n\u001b[1;32m    542\u001b[0m \u001b[38;5;28mself\u001b[39m\u001b[38;5;241m.\u001b[39mstate\u001b[38;5;241m.\u001b[39mstatus \u001b[38;5;241m=\u001b[39m TrainerStatus\u001b[38;5;241m.\u001b[39mRUNNING\n\u001b[1;32m    543\u001b[0m \u001b[38;5;28mself\u001b[39m\u001b[38;5;241m.\u001b[39mtraining \u001b[38;5;241m=\u001b[39m \u001b[38;5;28;01mTrue\u001b[39;00m\n\u001b[0;32m--> 544\u001b[0m \u001b[43mcall\u001b[49m\u001b[38;5;241;43m.\u001b[39;49m\u001b[43m_call_and_handle_interrupt\u001b[49m\u001b[43m(\u001b[49m\n\u001b[1;32m    545\u001b[0m \u001b[43m    \u001b[49m\u001b[38;5;28;43mself\u001b[39;49m\u001b[43m,\u001b[49m\u001b[43m \u001b[49m\u001b[38;5;28;43mself\u001b[39;49m\u001b[38;5;241;43m.\u001b[39;49m\u001b[43m_fit_impl\u001b[49m\u001b[43m,\u001b[49m\u001b[43m \u001b[49m\u001b[43mmodel\u001b[49m\u001b[43m,\u001b[49m\u001b[43m \u001b[49m\u001b[43mtrain_dataloaders\u001b[49m\u001b[43m,\u001b[49m\u001b[43m \u001b[49m\u001b[43mval_dataloaders\u001b[49m\u001b[43m,\u001b[49m\u001b[43m \u001b[49m\u001b[43mdatamodule\u001b[49m\u001b[43m,\u001b[49m\u001b[43m \u001b[49m\u001b[43mckpt_path\u001b[49m\n\u001b[1;32m    546\u001b[0m \u001b[43m\u001b[49m\u001b[43m)\u001b[49m\n",
      "File \u001b[0;32m/usr/local/lib/python3.10/dist-packages/lightning/pytorch/trainer/call.py:43\u001b[0m, in \u001b[0;36m_call_and_handle_interrupt\u001b[0;34m(trainer, trainer_fn, *args, **kwargs)\u001b[0m\n\u001b[1;32m     41\u001b[0m \u001b[38;5;28;01mtry\u001b[39;00m:\n\u001b[1;32m     42\u001b[0m     \u001b[38;5;28;01mif\u001b[39;00m trainer\u001b[38;5;241m.\u001b[39mstrategy\u001b[38;5;241m.\u001b[39mlauncher \u001b[38;5;129;01mis\u001b[39;00m \u001b[38;5;129;01mnot\u001b[39;00m \u001b[38;5;28;01mNone\u001b[39;00m:\n\u001b[0;32m---> 43\u001b[0m         \u001b[38;5;28;01mreturn\u001b[39;00m \u001b[43mtrainer\u001b[49m\u001b[38;5;241;43m.\u001b[39;49m\u001b[43mstrategy\u001b[49m\u001b[38;5;241;43m.\u001b[39;49m\u001b[43mlauncher\u001b[49m\u001b[38;5;241;43m.\u001b[39;49m\u001b[43mlaunch\u001b[49m\u001b[43m(\u001b[49m\u001b[43mtrainer_fn\u001b[49m\u001b[43m,\u001b[49m\u001b[43m \u001b[49m\u001b[38;5;241;43m*\u001b[39;49m\u001b[43margs\u001b[49m\u001b[43m,\u001b[49m\u001b[43m \u001b[49m\u001b[43mtrainer\u001b[49m\u001b[38;5;241;43m=\u001b[39;49m\u001b[43mtrainer\u001b[49m\u001b[43m,\u001b[49m\u001b[43m \u001b[49m\u001b[38;5;241;43m*\u001b[39;49m\u001b[38;5;241;43m*\u001b[39;49m\u001b[43mkwargs\u001b[49m\u001b[43m)\u001b[49m\n\u001b[1;32m     44\u001b[0m     \u001b[38;5;28;01mreturn\u001b[39;00m trainer_fn(\u001b[38;5;241m*\u001b[39margs, \u001b[38;5;241m*\u001b[39m\u001b[38;5;241m*\u001b[39mkwargs)\n\u001b[1;32m     46\u001b[0m \u001b[38;5;28;01mexcept\u001b[39;00m _TunerExitException:\n",
      "File \u001b[0;32m/usr/local/lib/python3.10/dist-packages/lightning/pytorch/strategies/launchers/multiprocessing.py:144\u001b[0m, in \u001b[0;36m_MultiProcessingLauncher.launch\u001b[0;34m(self, function, trainer, *args, **kwargs)\u001b[0m\n\u001b[1;32m    136\u001b[0m process_context \u001b[38;5;241m=\u001b[39m mp\u001b[38;5;241m.\u001b[39mstart_processes(\n\u001b[1;32m    137\u001b[0m     \u001b[38;5;28mself\u001b[39m\u001b[38;5;241m.\u001b[39m_wrapping_function,\n\u001b[1;32m    138\u001b[0m     args\u001b[38;5;241m=\u001b[39mprocess_args,\n\u001b[0;32m   (...)\u001b[0m\n\u001b[1;32m    141\u001b[0m     join\u001b[38;5;241m=\u001b[39m\u001b[38;5;28;01mFalse\u001b[39;00m,  \u001b[38;5;66;03m# we will join ourselves to get the process references\u001b[39;00m\n\u001b[1;32m    142\u001b[0m )\n\u001b[1;32m    143\u001b[0m \u001b[38;5;28mself\u001b[39m\u001b[38;5;241m.\u001b[39mprocs \u001b[38;5;241m=\u001b[39m process_context\u001b[38;5;241m.\u001b[39mprocesses\n\u001b[0;32m--> 144\u001b[0m \u001b[38;5;28;01mwhile\u001b[39;00m \u001b[38;5;129;01mnot\u001b[39;00m \u001b[43mprocess_context\u001b[49m\u001b[38;5;241;43m.\u001b[39;49m\u001b[43mjoin\u001b[49m\u001b[43m(\u001b[49m\u001b[43m)\u001b[49m:\n\u001b[1;32m    145\u001b[0m     \u001b[38;5;28;01mpass\u001b[39;00m\n\u001b[1;32m    147\u001b[0m worker_output \u001b[38;5;241m=\u001b[39m return_queue\u001b[38;5;241m.\u001b[39mget()\n",
      "File \u001b[0;32m/usr/local/lib/python3.10/dist-packages/torch/multiprocessing/spawn.py:169\u001b[0m, in \u001b[0;36mProcessContext.join\u001b[0;34m(self, timeout)\u001b[0m\n\u001b[1;32m    167\u001b[0m     \u001b[38;5;28;01mexcept\u001b[39;00m \u001b[38;5;167;01mValueError\u001b[39;00m:\n\u001b[1;32m    168\u001b[0m         name \u001b[38;5;241m=\u001b[39m \u001b[38;5;124mf\u001b[39m\u001b[38;5;124m\"\u001b[39m\u001b[38;5;124m<Unknown signal \u001b[39m\u001b[38;5;132;01m{\u001b[39;00m\u001b[38;5;241m-\u001b[39mexitcode\u001b[38;5;132;01m}\u001b[39;00m\u001b[38;5;124m>\u001b[39m\u001b[38;5;124m\"\u001b[39m\n\u001b[0;32m--> 169\u001b[0m     \u001b[38;5;28;01mraise\u001b[39;00m ProcessExitedException(\n\u001b[1;32m    170\u001b[0m         \u001b[38;5;124m\"\u001b[39m\u001b[38;5;124mprocess \u001b[39m\u001b[38;5;132;01m%d\u001b[39;00m\u001b[38;5;124m terminated with signal \u001b[39m\u001b[38;5;132;01m%s\u001b[39;00m\u001b[38;5;124m\"\u001b[39m \u001b[38;5;241m%\u001b[39m (error_index, name),\n\u001b[1;32m    171\u001b[0m         error_index\u001b[38;5;241m=\u001b[39merror_index,\n\u001b[1;32m    172\u001b[0m         error_pid\u001b[38;5;241m=\u001b[39mfailed_process\u001b[38;5;241m.\u001b[39mpid,\n\u001b[1;32m    173\u001b[0m         exit_code\u001b[38;5;241m=\u001b[39mexitcode,\n\u001b[1;32m    174\u001b[0m         signal_name\u001b[38;5;241m=\u001b[39mname,\n\u001b[1;32m    175\u001b[0m     )\n\u001b[1;32m    176\u001b[0m \u001b[38;5;28;01melse\u001b[39;00m:\n\u001b[1;32m    177\u001b[0m     \u001b[38;5;28;01mraise\u001b[39;00m ProcessExitedException(\n\u001b[1;32m    178\u001b[0m         \u001b[38;5;124m\"\u001b[39m\u001b[38;5;124mprocess \u001b[39m\u001b[38;5;132;01m%d\u001b[39;00m\u001b[38;5;124m terminated with exit code \u001b[39m\u001b[38;5;132;01m%d\u001b[39;00m\u001b[38;5;124m\"\u001b[39m \u001b[38;5;241m%\u001b[39m (error_index, exitcode),\n\u001b[1;32m    179\u001b[0m         error_index\u001b[38;5;241m=\u001b[39merror_index,\n\u001b[1;32m    180\u001b[0m         error_pid\u001b[38;5;241m=\u001b[39mfailed_process\u001b[38;5;241m.\u001b[39mpid,\n\u001b[1;32m    181\u001b[0m         exit_code\u001b[38;5;241m=\u001b[39mexitcode,\n\u001b[1;32m    182\u001b[0m     )\n",
      "\u001b[0;31mProcessExitedException\u001b[0m: process 0 terminated with signal SIGSEGV"
     ]
    }
   ],
   "source": [
    "trainer.fit(model, data, ckpt_path=\"saved/models/FlowersDiffusion_Ppc/0509_231539/checkpoint_999.ckpt\")"
   ]
  },
  {
   "cell_type": "code",
   "execution_count": null,
   "id": "faa5b900-0121-4cf6-91b6-2c9b0b12716f",
   "metadata": {},
   "outputs": [],
   "source": [
    "trainer.model.eval()\n",
    "trainer.cpu()\n",
    "trainer.valid_particles.cpu()"
   ]
  },
  {
   "cell_type": "code",
   "execution_count": null,
   "id": "a8f27b30-f96c-4b88-8915-c90b844f7082",
   "metadata": {},
   "outputs": [],
   "source": [
    "for site in trainer.model.graph.nodes:\n",
    "    trainer.model.graph.nodes[site]['is_observed'] = trainer.model.graph.nodes[site]['value'] is not None"
   ]
  },
  {
   "cell_type": "code",
   "execution_count": null,
   "id": "a0ba74ac-4973-49b2-8f08-89364422027a",
   "metadata": {},
   "outputs": [],
   "source": [
    "xs, _, indices = list(trainer.valid_data_loader)[0]\n",
    "trainer._load_particles(indices, False)\n",
    "with pyro.plate_stack(\"forward\", (trainer.num_particles, len(xs))):\n",
    "    model = pyro.condition(trainer.model, data={k: v['value'] for k, v in trainer.model.graph.nodes.items()})\n",
    "    x_hats = model().mean(dim=0)"
   ]
  },
  {
   "cell_type": "code",
   "execution_count": null,
   "id": "53c76257-aef8-40e3-934a-a1e534924256",
   "metadata": {},
   "outputs": [],
   "source": [
    "import matplotlib.pyplot as plt"
   ]
  },
  {
   "cell_type": "code",
   "execution_count": null,
   "id": "f750bfb2-80aa-4fad-885e-752772706a9d",
   "metadata": {},
   "outputs": [],
   "source": [
    "fig, axes = plt.subplots(nrows=2, ncols=8, sharex=\"all\", sharey=\"all\", layout=\"compressed\")\n",
    "\n",
    "for i in range(8):\n",
    "    orgs = data_loader.reverse_transform(xs[i].squeeze().detach())\n",
    "    estimates = data_loader.reverse_transform(x_hats[i].squeeze().detach())\n",
    "    axes[0, i].imshow(orgs)\n",
    "    axes[1, i].imshow(estimates)\n",
    "\n",
    "fig.savefig(\"ppc_flowers_recons.pdf\", bbox_inches=\"tight\")\n",
    "plt.show()"
   ]
  },
  {
   "cell_type": "code",
   "execution_count": null,
   "id": "34f8050d-f8c0-440a-9bbd-d7fb8a904249",
   "metadata": {},
   "outputs": [],
   "source": [
    "del xs\n",
    "del x_hats"
   ]
  },
  {
   "cell_type": "code",
   "execution_count": null,
   "id": "fc0cbde7-57f0-48fb-956e-7ab6016f34f4",
   "metadata": {},
   "outputs": [],
   "source": [
    "for site in trainer.model.graph.nodes:\n",
    "    trainer.model.graph.unclamp(site)"
   ]
  },
  {
   "cell_type": "code",
   "execution_count": null,
   "id": "3c48c964-fc69-4cad-bfe5-e456ac545d73",
   "metadata": {},
   "outputs": [],
   "source": [
    "with pyro.plate_stack(\"forward\", (trainer.num_particles, 8)):\n",
    "    x_hats = trainer.model()"
   ]
  },
  {
   "cell_type": "code",
   "execution_count": null,
   "id": "e8d52c91-326b-469a-954d-ca5b4e4c67c6",
   "metadata": {},
   "outputs": [],
   "source": [
    "fig, axes = plt.subplots(nrows=1, ncols=8, sharex=\"all\", sharey=\"all\", layout=\"compressed\")\n",
    "\n",
    "for i in range(8):\n",
    "    estimates = data_loader.reverse_transform(x_hats[i].squeeze().detach())\n",
    "    axes[i].imshow(estimates)\n",
    "\n",
    "fig.savefig(\"ppc_flowers_samples.pdf\", bbox_inches=\"tight\")\n",
    "plt.show()"
   ]
  },
  {
   "cell_type": "code",
   "execution_count": null,
   "id": "4a8e8aef-77f3-483a-a4b8-b36b01fdffaa",
   "metadata": {},
   "outputs": [],
   "source": [
    "del x_hats"
   ]
  },
  {
   "cell_type": "code",
   "execution_count": null,
   "id": "7657733f-5780-47fc-a10e-a01fbac6b4a8",
   "metadata": {},
   "outputs": [],
   "source": [
    "SEEDS = [123, 456, 789, 101112, 131415]"
   ]
  },
  {
   "cell_type": "code",
   "execution_count": null,
   "id": "94d66fc2-7539-4ef9-ad74-1cc77a0e8306",
   "metadata": {},
   "outputs": [],
   "source": [
    "LOG_LIKELIHOODS = torch.zeros(len(SEEDS), requires_grad=False)\n",
    "MEAN_SQUARED_ERROR = torch.zeros(len(SEEDS), requires_grad=False)"
   ]
  },
  {
   "cell_type": "code",
   "execution_count": null,
   "id": "089f3a60-5009-4238-9c1b-f1a2e7797546",
   "metadata": {},
   "outputs": [],
   "source": [
    "for (s, SEED) in enumerate(SEEDS):\n",
    "    torch.manual_seed(SEED)\n",
    "    np.random.seed(SEED)\n",
    "    for b, (xs, target, indices) in enumerate(trainer.valid_data_loader):\n",
    "        trainer._load_particles(indices, False)\n",
    "    \n",
    "        with pyro.plate_stack(\"forward\", (trainer.num_particles, len(xs))):\n",
    "            model = pyro.condition(trainer.model, data={k: v['value'] for k, v in trainer.model.graph.nodes.items()})\n",
    "            trace = pyro.poutine.trace(model).get_trace()\n",
    "            x_hats = trace.nodes['X__0']['value'].mean(dim=0)\n",
    "        LOG_LIKELIHOODS[s] += trace.nodes['X__0']['fn'].log_prob(xs).sum()\n",
    "        MEAN_SQUARED_ERROR[s] += ((xs - x_hats) ** 2).sum(dim=0).mean()\n",
    "\n",
    "        del xs\n",
    "        del x_hats\n",
    "        logger.info(\"Evaluated likelihood for valid batch %d under seed %s\" % (b, s))\n",
    "\n",
    "    LOG_LIKELIHOODS[s] /= len(trainer.valid_data_loader.sampler)\n",
    "    MEAN_SQUARED_ERROR[s] /= len(trainer.valid_data_loader.sampler)"
   ]
  },
  {
   "cell_type": "code",
   "execution_count": null,
   "id": "23203c5d-e7f0-4f5d-868b-a0ba77d1b9e6",
   "metadata": {},
   "outputs": [],
   "source": [
    "LOG_LIKELIHOODS.mean(), LOG_LIKELIHOODS.std()"
   ]
  },
  {
   "cell_type": "code",
   "execution_count": null,
   "id": "ce608df3-f41d-4637-862c-7a825403f72f",
   "metadata": {},
   "outputs": [],
   "source": [
    "MEAN_SQUARED_ERROR.mean(), MEAN_SQUARED_ERROR.std()"
   ]
  },
  {
   "cell_type": "code",
   "execution_count": null,
   "id": "7d787fd1-48f0-4ae8-82ae-fae7bffbc98a",
   "metadata": {},
   "outputs": [],
   "source": []
  }
 ],
 "metadata": {
  "kernelspec": {
   "display_name": "Python 3 (ipykernel)",
   "language": "python",
   "name": "python3"
  },
  "language_info": {
   "codemirror_mode": {
    "name": "ipython",
    "version": 3
   },
   "file_extension": ".py",
   "mimetype": "text/x-python",
   "name": "python",
   "nbconvert_exporter": "python",
   "pygments_lexer": "ipython3",
   "version": "3.10.12"
  }
 },
 "nbformat": 4,
 "nbformat_minor": 5
}
