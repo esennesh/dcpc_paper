{
 "cells": [
  {
   "cell_type": "code",
   "execution_count": null,
   "id": "596d192c-de00-40b4-a8b3-25e6b01e1e4b",
   "metadata": {},
   "outputs": [],
   "source": [
    "%cd .."
   ]
  },
  {
   "cell_type": "code",
   "execution_count": null,
   "id": "57c6b861-1675-4dda-8682-90dce2bdd6ad",
   "metadata": {},
   "outputs": [],
   "source": [
    "import argparse\n",
    "import collections\n",
    "import lightning\n",
    "import numpy as np\n",
    "import pyro\n",
    "import torch\n",
    "import logger, train"
   ]
  },
  {
   "cell_type": "code",
   "execution_count": null,
   "id": "677b3650-cfa3-4e86-b90d-76fcc76171c3",
   "metadata": {},
   "outputs": [],
   "source": [
    "# pyro.enable_validation(True)\n",
    "# torch.autograd.set_detect_anomaly(True)"
   ]
  },
  {
   "cell_type": "code",
   "execution_count": null,
   "id": "57f1cbc3-5002-44f4-8b3b-f73a4d9d06a2",
   "metadata": {},
   "outputs": [],
   "source": [
    "config, (data, model, trainer) = train.from_file(\"experiments/ppc_celeba_config.json\")"
   ]
  },
  {
   "cell_type": "code",
   "execution_count": null,
   "id": "a5fb836e-6722-4e0e-8938-ccafdea5fb7c",
   "metadata": {},
   "outputs": [],
   "source": [
    "logger = config.get_logger('valid')"
   ]
  },
  {
   "cell_type": "code",
   "execution_count": null,
   "id": "f2da1153-66a1-4f95-99d6-0f30f353edde",
   "metadata": {},
   "outputs": [],
   "source": [
    "trainer.fit(model, data, ckpt_path=\"saved/models/CelebA_Ppc/0519_223059/checkpoint_99.ckpt\")"
   ]
  },
  {
   "cell_type": "code",
   "execution_count": null,
   "id": "faa5b900-0121-4cf6-91b6-2c9b0b12716f",
   "metadata": {},
   "outputs": [],
   "source": [
    "model.graph.clear()\n",
    "model.eval()\n",
    "model.cuda()"
   ]
  },
  {
   "cell_type": "code",
   "execution_count": null,
   "id": "3b2fdb21-b49c-44dd-a557-e249e83ea183",
   "metadata": {},
   "outputs": [],
   "source": [
    "xs, _, indices = list(data.val_dataloader())[0]\n",
    "xs = xs.to(model.device)\n",
    "model._load_particles(indices, False)"
   ]
  },
  {
   "cell_type": "code",
   "execution_count": null,
   "id": "a0ba74ac-4973-49b2-8f08-89364422027a",
   "metadata": {},
   "outputs": [],
   "source": [
    "with model.graph.condition(X=xs) as joint:\n",
    "    for i in range(299):\n",
    "        trace, log_weight = joint(B=len(xs), lr=1e-1, P=model.num_particles)\n",
    "        logger.info(\"Free energy at evaluation %d: %f\" % (i+1, -log_weight.mean()))\n",
    "        del trace\n",
    "        del log_weight\n",
    "    _, log_weight = joint(B=len(xs), lr=1e-1, P=model.num_particles)\n",
    "logger.info(\"Free energy at evaluation 300: %f\" % -log_weight.mean())\n",
    "del log_weight"
   ]
  },
  {
   "cell_type": "code",
   "execution_count": null,
   "id": "61390e08-d200-4dd8-968a-01aee2129baf",
   "metadata": {},
   "outputs": [],
   "source": [
    "with model.graph.condition(z=model.graph.nodes['z']['value']) as predictive:\n",
    "    x_hats = predictive(B=len(xs), mode=\"prior\", P=model.num_particles).mean(dim=0)"
   ]
  },
  {
   "cell_type": "code",
   "execution_count": null,
   "id": "53c76257-aef8-40e3-934a-a1e534924256",
   "metadata": {},
   "outputs": [],
   "source": [
    "import matplotlib.pyplot as plt"
   ]
  },
  {
   "cell_type": "code",
   "execution_count": null,
   "id": "f750bfb2-80aa-4fad-885e-752772706a9d",
   "metadata": {},
   "outputs": [],
   "source": [
    "fig, axes = plt.subplots(nrows=2, ncols=8, sharex=\"all\", sharey=\"all\", layout=\"compressed\")\n",
    "\n",
    "for i in range(8):\n",
    "    orgs = xs[i].detach().transpose(0, -1).cpu()\n",
    "    estimates = x_hats[i].detach().transpose(0, -1).cpu()\n",
    "    axes[0, i].imshow(orgs)\n",
    "    axes[1, i].imshow(estimates)\n",
    "\n",
    "fig.savefig(\"ppc_celeba_recons.pdf\", bbox_inches=\"tight\")\n",
    "plt.show()"
   ]
  },
  {
   "cell_type": "code",
   "execution_count": null,
   "id": "34f8050d-f8c0-440a-9bbd-d7fb8a904249",
   "metadata": {},
   "outputs": [],
   "source": [
    "del xs\n",
    "del x_hats"
   ]
  },
  {
   "cell_type": "code",
   "execution_count": null,
   "id": "fc0cbde7-57f0-48fb-956e-7ab6016f34f4",
   "metadata": {},
   "outputs": [],
   "source": [
    "model.graph.clear()"
   ]
  },
  {
   "cell_type": "code",
   "execution_count": null,
   "id": "3c48c964-fc69-4cad-bfe5-e456ac545d73",
   "metadata": {},
   "outputs": [],
   "source": [
    "model.graph(B=8, lr=1e-1, mode=\"prior\", P=model.num_particles)\n",
    "for _ in range(299):\n",
    "    model.graph(B=8, lr=1e-1, mode=\"prior\", P=model.num_particles)\n",
    "x_hats = model.graph(B=8, lr=1e-1, mode=\"prior\", P=model.num_particles)\n",
    "x_hats = x_hats.mean(dim=0)"
   ]
  },
  {
   "cell_type": "code",
   "execution_count": null,
   "id": "e8d52c91-326b-469a-954d-ca5b4e4c67c6",
   "metadata": {},
   "outputs": [],
   "source": [
    "fig, axes = plt.subplots(nrows=1, ncols=8, sharex=\"all\", sharey=\"all\", layout=\"compressed\")\n",
    "\n",
    "for i in range(8):\n",
    "    estimates = x_hats[i].squeeze().detach().transpose(0, -1).cpu()\n",
    "    axes[i].imshow(estimates)\n",
    "\n",
    "fig.savefig(\"ppc_celeba_samples.pdf\", bbox_inches=\"tight\")\n",
    "plt.show()"
   ]
  },
  {
   "cell_type": "code",
   "execution_count": null,
   "id": "4a8e8aef-77f3-483a-a4b8-b36b01fdffaa",
   "metadata": {},
   "outputs": [],
   "source": [
    "del x_hats"
   ]
  },
  {
   "cell_type": "code",
   "execution_count": null,
   "id": "7657733f-5780-47fc-a10e-a01fbac6b4a8",
   "metadata": {},
   "outputs": [],
   "source": [
    "SEEDS = [123, 456, 789, 101112, 131415]"
   ]
  },
  {
   "cell_type": "code",
   "execution_count": null,
   "id": "94d66fc2-7539-4ef9-ad74-1cc77a0e8306",
   "metadata": {},
   "outputs": [],
   "source": [
    "LOG_LIKELIHOODS = torch.zeros(len(SEEDS), requires_grad=False)\n",
    "MEAN_SQUARED_ERROR = torch.zeros(len(SEEDS), requires_grad=False)"
   ]
  },
  {
   "cell_type": "code",
   "execution_count": null,
   "id": "089f3a60-5009-4238-9c1b-f1a2e7797546",
   "metadata": {},
   "outputs": [],
   "source": [
    "with torch.no_grad():\n",
    "    for (s, SEED) in enumerate(SEEDS):\n",
    "        torch.manual_seed(SEED)\n",
    "        np.random.seed(SEED)\n",
    "        for b, (xs, target, indices) in enumerate(data.val_dataloader()):\n",
    "            xs = xs.to(model.device)\n",
    "            model._load_particles(indices, False)\n",
    "\n",
    "            with model.graph.condition(X=xs) as joint:\n",
    "                trace, _ = joint(B=len(xs), lr=1e-5, P=model.num_particles)\n",
    "            x_hats = trace.nodes['X']['fn'].base_dist.loc.mean(dim=0)\n",
    "            LOG_LIKELIHOODS[s] += trace.nodes['X']['fn'].log_prob(xs).sum().cpu()\n",
    "            MEAN_SQUARED_ERROR[s] += ((xs - x_hats) ** 2).sum(dim=0).mean().cpu()\n",
    "    \n",
    "            del xs\n",
    "            del x_hats\n",
    "            del trace\n",
    "            del target\n",
    "            del indices\n",
    "            logger.info(\"Evaluated likelihood for valid batch %d under seed %s\" % (b, s))\n",
    "    \n",
    "        LOG_LIKELIHOODS[s] /= len(data.val_dataloader().dataset)\n",
    "        MEAN_SQUARED_ERROR[s] /= len(data.val_dataloader().dataset)"
   ]
  },
  {
   "cell_type": "code",
   "execution_count": null,
   "id": "23203c5d-e7f0-4f5d-868b-a0ba77d1b9e6",
   "metadata": {},
   "outputs": [],
   "source": [
    "LOG_LIKELIHOODS.mean(), LOG_LIKELIHOODS.std()"
   ]
  },
  {
   "cell_type": "code",
   "execution_count": null,
   "id": "ce608df3-f41d-4637-862c-7a825403f72f",
   "metadata": {},
   "outputs": [],
   "source": [
    "MEAN_SQUARED_ERROR.mean(), MEAN_SQUARED_ERROR.std()"
   ]
  },
  {
   "cell_type": "code",
   "execution_count": null,
   "id": "468e43e1-01db-45c1-b678-601fb1de8714",
   "metadata": {},
   "outputs": [],
   "source": [
    "model.graph.clear()"
   ]
  },
  {
   "cell_type": "code",
   "execution_count": null,
   "id": "0dd6a5fe-61c5-4383-a79b-cddab5646194",
   "metadata": {},
   "outputs": [],
   "source": [
    "NUM_SAMPLES = 200\n",
    "num_samples = 0"
   ]
  },
  {
   "cell_type": "code",
   "execution_count": null,
   "id": "f472c7fc-6c80-4c22-a099-7cfc72bc258b",
   "metadata": {},
   "outputs": [],
   "source": [
    "import utils.util as util"
   ]
  },
  {
   "cell_type": "code",
   "execution_count": null,
   "id": "71814caf-1954-47b1-874e-b91b8b09adc5",
   "metadata": {},
   "outputs": [],
   "source": [
    "util.ensure_dir('data/celeba_ppc')"
   ]
  },
  {
   "cell_type": "code",
   "execution_count": null,
   "id": "f8b0666c-0531-4191-b5f7-31efecac828b",
   "metadata": {},
   "outputs": [],
   "source": [
    "# plt.set_loglevel(\"error\")\n",
    "\n",
    "# while num_samples < NUM_SAMPLES:\n",
    "#     x_hats = model.graph(B=data.batch_size, mode=\"prior\", P=model.num_particles).mean(dim=0)\n",
    "#     for k in range(data.batch_size):\n",
    "#         fig = plt.imshow(x_hats[k].squeeze().detach().transpose(0, -1).cpu())\n",
    "#         plt.savefig(\"data/celeba_ppc/%d.jpg\" % (num_samples + k))\n",
    "#     num_samples += data.batch_size\n",
    "\n",
    "#     logger.info(\"Generated %d sample images\" % num_samples)"
   ]
  },
  {
   "cell_type": "code",
   "execution_count": null,
   "id": "9a33515a-ca66-433d-8d48-ebac38be07bd",
   "metadata": {},
   "outputs": [],
   "source": []
  }
 ],
 "metadata": {
  "kernelspec": {
   "display_name": "Python 3 (ipykernel)",
   "language": "python",
   "name": "python3"
  },
  "language_info": {
   "codemirror_mode": {
    "name": "ipython",
    "version": 3
   },
   "file_extension": ".py",
   "mimetype": "text/x-python",
   "name": "python",
   "nbconvert_exporter": "python",
   "pygments_lexer": "ipython3",
   "version": "3.10.12"
  }
 },
 "nbformat": 4,
 "nbformat_minor": 5
}
