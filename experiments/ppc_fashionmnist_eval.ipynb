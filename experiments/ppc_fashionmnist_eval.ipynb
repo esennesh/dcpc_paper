{
 "cells": [
  {
   "cell_type": "code",
   "execution_count": 1,
   "id": "596d192c-de00-40b4-a8b3-25e6b01e1e4b",
   "metadata": {},
   "outputs": [
    {
     "name": "stdout",
     "output_type": "stream",
     "text": [
      "/home/eli/AnacondaProjects/ppc_experiments\n"
     ]
    }
   ],
   "source": [
    "%cd .."
   ]
  },
  {
   "cell_type": "code",
   "execution_count": 2,
   "id": "94520ed3-45be-4735-a0f2-b8f380838c5c",
   "metadata": {},
   "outputs": [],
   "source": [
    "import argparse\n",
    "import collections\n",
    "import numpy as np\n",
    "import pyro\n",
    "import torch\n",
    "import data_loader.data_loaders as module_data\n",
    "import model.loss as module_loss\n",
    "import model.metric as module_metric\n",
    "import model.model as module_arch\n",
    "from parse_config import ConfigParser\n",
    "import trainer.trainer as module_trainer\n",
    "import utils"
   ]
  },
  {
   "cell_type": "code",
   "execution_count": 3,
   "id": "c2ac4be4-19eb-4713-a88d-9bec118c7303",
   "metadata": {},
   "outputs": [],
   "source": [
    "# pyro.enable_validation(True)\n",
    "# torch.autograd.set_detect_anomaly(True)"
   ]
  },
  {
   "cell_type": "code",
   "execution_count": 4,
   "id": "642d3c75-693c-4a96-b3cc-d42229ea74cb",
   "metadata": {},
   "outputs": [],
   "source": [
    "torch.backends.cudnn.deterministic = True\n",
    "torch.backends.cudnn.benchmark = False"
   ]
  },
  {
   "cell_type": "code",
   "execution_count": 5,
   "id": "c75ea7b9-6fe5-4f8a-a825-3572e421242a",
   "metadata": {},
   "outputs": [],
   "source": [
    "# fix random seeds for reproducibility\n",
    "SEED = 123\n",
    "torch.manual_seed(SEED)\n",
    "np.random.seed(SEED)"
   ]
  },
  {
   "cell_type": "code",
   "execution_count": 6,
   "id": "ab1445d1-45bb-43f9-893d-7a2b2bad1a0c",
   "metadata": {},
   "outputs": [],
   "source": [
    "from utils import read_json\n",
    "\n",
    "config = read_json(\"experiments/ppc_fashionmnist_config.json\")\n",
    "config = ConfigParser(config)"
   ]
  },
  {
   "cell_type": "code",
   "execution_count": 7,
   "id": "3ca35026-5f64-47f8-98c7-a5e228013d45",
   "metadata": {},
   "outputs": [
    {
     "name": "stdout",
     "output_type": "stream",
     "text": [
      "MnistPpc(\n",
      "  (prior): GaussianPrior()\n",
      "  (decoder1): ConditionalGaussian(\n",
      "    (decoder): Sequential(\n",
      "      (0): ReLU()\n",
      "      (1): Linear(in_features=20, out_features=128, bias=True)\n",
      "    )\n",
      "  )\n",
      "  (decoder2): ConditionalGaussian(\n",
      "    (decoder): Sequential(\n",
      "      (0): ReLU()\n",
      "      (1): Linear(in_features=128, out_features=256, bias=True)\n",
      "    )\n",
      "  )\n",
      "  (likelihood): MlpBernoulliLikelihood(\n",
      "    (decoder): Sequential(\n",
      "      (0): ReLU()\n",
      "      (1): Linear(in_features=256, out_features=784, bias=True)\n",
      "    )\n",
      "  )\n",
      "  (graph): PpcGraphicalModel()\n",
      ")\n",
      "Trainable parameters: 319540\n",
      "Initialize particles: train batch 0\n",
      "Initialize particles: train batch 1\n",
      "Initialize particles: train batch 2\n",
      "Initialize particles: train batch 3\n",
      "Initialize particles: train batch 4\n",
      "Initialize particles: train batch 5\n",
      "Initialize particles: train batch 6\n",
      "Initialize particles: train batch 7\n",
      "Initialize particles: train batch 8\n",
      "Initialize particles: train batch 9\n",
      "Initialize particles: train batch 10\n",
      "Initialize particles: train batch 11\n",
      "Initialize particles: train batch 12\n",
      "Initialize particles: train batch 13\n",
      "Initialize particles: train batch 14\n",
      "Initialize particles: train batch 15\n",
      "Initialize particles: train batch 16\n",
      "Initialize particles: train batch 17\n",
      "Initialize particles: train batch 18\n",
      "Initialize particles: train batch 19\n",
      "Initialize particles: train batch 20\n",
      "Initialize particles: train batch 21\n",
      "Initialize particles: train batch 22\n",
      "Initialize particles: train batch 23\n",
      "Initialize particles: train batch 24\n",
      "Initialize particles: train batch 25\n",
      "Initialize particles: train batch 26\n",
      "Initialize particles: train batch 27\n",
      "Initialize particles: train batch 28\n",
      "Initialize particles: train batch 29\n",
      "Initialize particles: train batch 30\n",
      "Initialize particles: train batch 31\n",
      "Initialize particles: train batch 32\n",
      "Initialize particles: train batch 33\n",
      "Initialize particles: train batch 34\n",
      "Initialize particles: train batch 35\n",
      "Initialize particles: train batch 36\n",
      "Initialize particles: train batch 37\n",
      "Initialize particles: train batch 38\n",
      "Initialize particles: train batch 39\n",
      "Initialize particles: train batch 40\n",
      "Initialize particles: train batch 41\n",
      "Initialize particles: train batch 42\n",
      "Initialize particles: train batch 43\n",
      "Initialize particles: train batch 44\n",
      "Initialize particles: train batch 45\n",
      "Initialize particles: train batch 46\n",
      "Initialize particles: train batch 47\n",
      "Initialize particles: train batch 48\n",
      "Initialize particles: train batch 49\n",
      "Initialize particles: train batch 50\n",
      "Initialize particles: train batch 51\n",
      "Initialize particles: train batch 52\n",
      "Initialize particles: train batch 53\n",
      "Initialize particles: train batch 54\n",
      "Initialize particles: train batch 55\n",
      "Initialize particles: train batch 56\n",
      "Initialize particles: train batch 57\n",
      "Initialize particles: train batch 58\n",
      "Initialize particles: train batch 59\n",
      "Initialize particles: train batch 60\n",
      "Initialize particles: train batch 61\n",
      "Initialize particles: train batch 62\n",
      "Initialize particles: train batch 63\n",
      "Initialize particles: train batch 64\n",
      "Initialize particles: train batch 65\n",
      "Initialize particles: train batch 66\n",
      "Initialize particles: train batch 67\n",
      "Initialize particles: train batch 68\n",
      "Initialize particles: train batch 69\n",
      "Initialize particles: train batch 70\n",
      "Initialize particles: train batch 71\n",
      "Initialize particles: train batch 72\n",
      "Initialize particles: train batch 73\n",
      "Initialize particles: train batch 74\n",
      "Initialize particles: train batch 75\n",
      "Initialize particles: train batch 76\n",
      "Initialize particles: train batch 77\n",
      "Initialize particles: train batch 78\n",
      "Initialize particles: train batch 79\n",
      "Initialize particles: train batch 80\n",
      "Initialize particles: train batch 81\n",
      "Initialize particles: train batch 82\n",
      "Initialize particles: train batch 83\n",
      "Initialize particles: train batch 84\n",
      "Initialize particles: train batch 85\n",
      "Initialize particles: train batch 86\n",
      "Initialize particles: train batch 87\n",
      "Initialize particles: train batch 88\n",
      "Initialize particles: train batch 89\n",
      "Initialize particles: train batch 90\n",
      "Initialize particles: train batch 91\n",
      "Initialize particles: train batch 92\n",
      "Initialize particles: train batch 93\n",
      "Initialize particles: train batch 94\n",
      "Initialize particles: train batch 95\n",
      "Initialize particles: train batch 96\n",
      "Initialize particles: train batch 97\n",
      "Initialize particles: train batch 98\n",
      "Initialize particles: train batch 99\n",
      "Initialize particles: train batch 100\n",
      "Initialize particles: train batch 101\n",
      "Initialize particles: train batch 102\n",
      "Initialize particles: train batch 103\n",
      "Initialize particles: train batch 104\n",
      "Initialize particles: train batch 105\n",
      "Initialize particles: valid batch 0\n",
      "Initialize particles: valid batch 1\n",
      "Initialize particles: valid batch 2\n",
      "Initialize particles: valid batch 3\n",
      "Initialize particles: valid batch 4\n",
      "Initialize particles: valid batch 5\n",
      "Initialize particles: valid batch 6\n",
      "Initialize particles: valid batch 7\n",
      "Initialize particles: valid batch 8\n",
      "Initialize particles: valid batch 9\n",
      "Initialize particles: valid batch 10\n",
      "Initialize particles: valid batch 11\n",
      "Loading checkpoint: saved/models/FashionMnist_Ppc/0505_172452/checkpoint-epoch2000.pth ...\n",
      "Checkpoint loaded. Resume training from epoch 2001\n"
     ]
    }
   ],
   "source": [
    "logger = config.get_logger('train')\n",
    "\n",
    "# setup data_loader instances\n",
    "data_loader = config.init_obj('data_loader', module_data)\n",
    "valid_data_loader = data_loader.split_validation()\n",
    "\n",
    "# build model architecture, then print to console\n",
    "model = config.init_obj('arch', module_arch)\n",
    "logger.info(model)\n",
    "\n",
    "# get function handles of metrics\n",
    "metrics = [getattr(module_metric, met) for met in config['metrics']]\n",
    "\n",
    "# build optimizer.\n",
    "optimizer = config.init_obj('optimizer', pyro.optim)\n",
    "\n",
    "# build trainer\n",
    "# kwargs = config['trainer'].pop('args')\n",
    "trainer = config.init_obj('trainer', module_trainer, model, metrics, optimizer,\n",
    "                          config=config, data_loader=data_loader,\n",
    "                          valid_data_loader=valid_data_loader,\n",
    "                          lr_scheduler=None)\n",
    "\n",
    "trainer._resume_checkpoint(\"saved/models/FashionMnist_Ppc/0505_172452/checkpoint-epoch2000.pth\")"
   ]
  },
  {
   "cell_type": "code",
   "execution_count": 8,
   "id": "faa5b900-0121-4cf6-91b6-2c9b0b12716f",
   "metadata": {},
   "outputs": [
    {
     "data": {
      "text/plain": [
       "ParticleDict(\n",
       "    (z1): Parameter containing: [torch.FloatTensor of size 2x6000x20]\n",
       "    (z2): Parameter containing: [torch.FloatTensor of size 2x6000x128]\n",
       "    (z3): Parameter containing: [torch.FloatTensor of size 2x6000x256]\n",
       ")"
      ]
     },
     "execution_count": 8,
     "metadata": {},
     "output_type": "execute_result"
    }
   ],
   "source": [
    "trainer.model.eval()\n",
    "trainer.cpu()\n",
    "trainer.valid_particles.cpu()"
   ]
  },
  {
   "cell_type": "code",
   "execution_count": 9,
   "id": "a8f27b30-f96c-4b88-8915-c90b844f7082",
   "metadata": {},
   "outputs": [],
   "source": [
    "for site in trainer.model.graph.nodes:\n",
    "    trainer.model.graph.nodes[site]['is_observed'] = trainer.model.graph.nodes[site]['value'] is not None"
   ]
  },
  {
   "cell_type": "code",
   "execution_count": 10,
   "id": "7657733f-5780-47fc-a10e-a01fbac6b4a8",
   "metadata": {},
   "outputs": [],
   "source": [
    "SEEDS = [123, 456, 789, 101112, 131415]"
   ]
  },
  {
   "cell_type": "code",
   "execution_count": 11,
   "id": "3025dc77-7e7f-415a-ba70-db3e9b33e69f",
   "metadata": {},
   "outputs": [],
   "source": [
    "import utils"
   ]
  },
  {
   "cell_type": "code",
   "execution_count": 12,
   "id": "94d66fc2-7539-4ef9-ad74-1cc77a0e8306",
   "metadata": {},
   "outputs": [],
   "source": [
    "LOG_LIKELIHOODS = torch.zeros(len(SEEDS), requires_grad=False)\n",
    "MEAN_SQUARED_ERROR = torch.zeros(len(SEEDS), requires_grad=False)"
   ]
  },
  {
   "cell_type": "code",
   "execution_count": 13,
   "id": "089f3a60-5009-4238-9c1b-f1a2e7797546",
   "metadata": {},
   "outputs": [],
   "source": [
    "for (s, SEED) in enumerate(SEEDS):\n",
    "    torch.manual_seed(SEED)\n",
    "    np.random.seed(SEED)\n",
    "    for (xs, target, indices) in trainer.valid_data_loader:\n",
    "        trainer._load_particles(indices, False)\n",
    "    \n",
    "        with pyro.plate_stack(\"forward\", (trainer.num_particles, len(xs))):\n",
    "            model = pyro.condition(trainer.model, data={k: v['value'] for k, v in trainer.model.graph.nodes.items()})\n",
    "            x_hats = model().mean(dim=0)\n",
    "        LOG_LIKELIHOODS[s] += -torch.nn.functional.binary_cross_entropy(x_hats, xs, reduction=\"none\").sum()\n",
    "        MEAN_SQUARED_ERROR[s] += ((xs - x_hats) ** 2).sum(dim=0).mean()\n",
    "\n",
    "    LOG_LIKELIHOODS[s] /= len(trainer.valid_data_loader.sampler)\n",
    "    MEAN_SQUARED_ERROR[s] /= len(trainer.valid_data_loader.sampler)"
   ]
  },
  {
   "cell_type": "code",
   "execution_count": 14,
   "id": "23203c5d-e7f0-4f5d-868b-a0ba77d1b9e6",
   "metadata": {},
   "outputs": [
    {
     "data": {
      "text/plain": [
       "(tensor(-258.1417), tensor(0.0614))"
      ]
     },
     "execution_count": 14,
     "metadata": {},
     "output_type": "execute_result"
    }
   ],
   "source": [
    "LOG_LIKELIHOODS.mean(), LOG_LIKELIHOODS.std()"
   ]
  },
  {
   "cell_type": "code",
   "execution_count": 15,
   "id": "ce608df3-f41d-4637-862c-7a825403f72f",
   "metadata": {},
   "outputs": [
    {
     "data": {
      "text/plain": [
       "(tensor(0.0215), tensor(2.3816e-05))"
      ]
     },
     "execution_count": 15,
     "metadata": {},
     "output_type": "execute_result"
    }
   ],
   "source": [
    "MEAN_SQUARED_ERROR.mean(), MEAN_SQUARED_ERROR.std()"
   ]
  },
  {
   "cell_type": "code",
   "execution_count": 16,
   "id": "53c76257-aef8-40e3-934a-a1e534924256",
   "metadata": {},
   "outputs": [],
   "source": [
    "import matplotlib.pyplot as plt"
   ]
  },
  {
   "cell_type": "code",
   "execution_count": 17,
   "id": "f750bfb2-80aa-4fad-885e-752772706a9d",
   "metadata": {},
   "outputs": [
    {
     "data": {
      "image/png": "[encoded data removed]",
      "text/plain": [
       "<Figure size 640x480 with 10 Axes>"
      ]
     },
     "metadata": {},
     "output_type": "display_data"
    }
   ],
   "source": [
    "fig, axes = plt.subplots(nrows=2, ncols=5, sharex=\"all\", sharey=\"all\", layout=\"compressed\")\n",
    "\n",
    "for i in range(5):\n",
    "    axes[0, i].imshow(xs[i].squeeze().detach().numpy())\n",
    "    axes[1, i].imshow(x_hats[i].squeeze().detach().numpy())\n",
    "\n",
    "fig.savefig(\"ppc_fashionmnist_recons.pdf\", bbox_inches=\"tight\")\n",
    "plt.show()"
   ]
  },
  {
   "cell_type": "code",
   "execution_count": 18,
   "id": "7d787fd1-48f0-4ae8-82ae-fae7bffbc98a",
   "metadata": {},
   "outputs": [],
   "source": [
    "trainer._clear_particles()"
   ]
  },
  {
   "cell_type": "code",
   "execution_count": 19,
   "id": "ddcb370f-039d-4182-86df-c314c2fc67c7",
   "metadata": {},
   "outputs": [
    {
     "data": {
      "text/plain": [
       "{'loss': -781.5634104410807,\n",
       " 'ess': 1.9621866643428802,\n",
       " 'log_marginal': 781.601308186849,\n",
       " 'log_joint': 990.0610198974609}"
      ]
     },
     "execution_count": 19,
     "metadata": {},
     "output_type": "execute_result"
    }
   ],
   "source": [
    "trainer._valid_epoch(2000)"
   ]
  },
  {
   "cell_type": "code",
   "execution_count": 20,
   "id": "cb7efb28-4e96-4527-8da9-74dc96fb17c5",
   "metadata": {},
   "outputs": [],
   "source": [
    "with pyro.plate_stack(\"forward\", (trainer.num_particles, len(xs))):\n",
    "    x_hats = trainer.model()"
   ]
  },
  {
   "cell_type": "code",
   "execution_count": 21,
   "id": "cb11b14c-9d91-49f3-a918-e7800139178b",
   "metadata": {},
   "outputs": [
    {
     "data": {
      "image/png": "[encoded data removed]",
      "text/plain": [
       "<Figure size 640x480 with 8 Axes>"
      ]
     },
     "metadata": {},
     "output_type": "display_data"
    }
   ],
   "source": [
    "fig, axes = plt.subplots(nrows=trainer.num_particles, ncols=4, sharex=\"all\", sharey=\"all\", layout=\"compressed\")\n",
    "\n",
    "for i in range(trainer.num_particles):\n",
    "    for j in range(4):\n",
    "        axes[i, j].imshow(x_hats[i, j].squeeze().detach().numpy())\n",
    "\n",
    "fig.savefig(\"ppc_fashionmnist_samples.pdf\", bbox_inches=\"tight\")\n",
    "plt.show()"
   ]
  },
  {
   "cell_type": "code",
   "execution_count": null,
   "id": "93225e04-1c3e-412b-b40a-9efd1ebdb359",
   "metadata": {},
   "outputs": [],
   "source": []
  }
 ],
 "metadata": {
  "kernelspec": {
   "display_name": "Python 3 (ipykernel)",
   "language": "python",
   "name": "python3"
  },
  "language_info": {
   "codemirror_mode": {
    "name": "ipython",
    "version": 3
   },
   "file_extension": ".py",
   "mimetype": "text/x-python",
   "name": "python",
   "nbconvert_exporter": "python",
   "pygments_lexer": "ipython3",
   "version": "3.11.7"
  }
 },
 "nbformat": 4,
 "nbformat_minor": 5
}
